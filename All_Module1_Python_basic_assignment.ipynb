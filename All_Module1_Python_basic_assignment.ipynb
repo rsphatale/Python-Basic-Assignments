{
  "nbformat": 4,
  "nbformat_minor": 0,
  "metadata": {
    "colab": {
      "name": "Module1- Python basic assignment.ipynb",
      "provenance": [],
      "collapsed_sections": []
    },
    "kernelspec": {
      "name": "python3",
      "display_name": "Python 3"
    },
    "language_info": {
      "name": "python"
    }
  },
  "cells": [
    {
      "cell_type": "markdown",
      "source": [
        "# **Python Basics assignments**"
      ],
      "metadata": {
        "id": "94yrqJE3enz8"
      }
    },
    {
      "cell_type": "markdown",
      "source": [
        "# Assignment 1- If- Else Assignment\n",
        "Input the values of a and b as 10 and 20 respectively. Now check if a is greater or b is greater \n",
        "using if condition. Think about all the edge cases, and print the statements accordingly."
      ],
      "metadata": {
        "id": "zMJgLWjWd6aD"
      }
    },
    {
      "cell_type": "code",
      "execution_count": 1,
      "metadata": {
        "id": "HX839jOZda4P",
        "colab": {
          "base_uri": "https://localhost:8080/"
        },
        "outputId": "440e0e8b-cf54-4455-d4e3-4c0084b2b806"
      },
      "outputs": [
        {
          "output_type": "stream",
          "name": "stdout",
          "text": [
            "b is greater than a\n"
          ]
        }
      ],
      "source": [
        "a,b= 10,20\n",
        "if a>b:\n",
        "  print('a is greater than b')\n",
        "else:\n",
        "  print('b is greater than a')"
      ]
    },
    {
      "cell_type": "markdown",
      "source": [
        "# Assignment 2- Conditional Statement assignment\n",
        "Take three user inputs and print the greatest number from those inputs using if-else condition. Edge cases if any, should also be handled."
      ],
      "metadata": {
        "id": "mWsqdxSafJPo"
      }
    },
    {
      "cell_type": "code",
      "source": [
        "x= float(input('Enter the value of x: '))\n",
        "y= float(input('Enter the value of y: '))\n",
        "z= float(input('Enter the value of z: '))\n",
        "if (x>y and x>z):\n",
        "  print('x is greater than y and z')\n",
        "elif (y>x and y> z):\n",
        "  print('y is greater than x and z')\n",
        "elif (z>x and z>y):\n",
        "  print('z is greater than x and y')\n",
        "else:\n",
        "  print('Either all numbers are equal or any two numbers are equal')"
      ],
      "metadata": {
        "colab": {
          "base_uri": "https://localhost:8080/"
        },
        "id": "x0LiOAUceeRn",
        "outputId": "217392de-b340-4a21-fc3c-6946b0a45d45"
      },
      "execution_count": 4,
      "outputs": [
        {
          "output_type": "stream",
          "name": "stdout",
          "text": [
            "Enter the value of x: 10.2\n",
            "Enter the value of y: 11.2\n",
            "Enter the value of z: 9.2\n",
            "y is greater than x and z\n"
          ]
        }
      ]
    },
    {
      "cell_type": "markdown",
      "source": [
        "# Assignment 5- Loops\n",
        "Create an array that is having user defined inputs and with the help of for loop, fetch all the prime numbers and print the numbers.\n"
      ],
      "metadata": {
        "id": "rqUfu-_TiKWS"
      }
    },
    {
      "cell_type": "code",
      "source": [
        "lower= int(input('Enter the lower limit: '))\n",
        "upper= int(input('Enter the upper limit: '))\n",
        "\n",
        "print('The Prime numbers between', lower, 'and', upper, 'are: ')\n",
        "\n",
        "for x in range(lower, upper):\n",
        "  if x > 1:\n",
        "    for i in range (2,x):\n",
        "      if (x % i) == 0:\n",
        "        break\n",
        "    else:\n",
        "      print(x, end= \", \")"
      ],
      "metadata": {
        "colab": {
          "base_uri": "https://localhost:8080/"
        },
        "id": "9U2h-siCkXKY",
        "outputId": "ad432949-f136-4137-b366-683287125b12"
      },
      "execution_count": 3,
      "outputs": [
        {
          "output_type": "stream",
          "name": "stdout",
          "text": [
            "Enter the lower limit: 1\n",
            "Enter the upper limit: 100\n",
            "The Prime numbers between 1 and 100 are: \n",
            "2, 3, 5, 7, 11, 13, 17, 19, 23, 29, 31, 37, 41, 43, 47, 53, 59, 61, 67, 71, 73, 79, 83, 89, 97, "
          ]
        }
      ]
    },
    {
      "cell_type": "markdown",
      "source": [
        "# Loops Assignment\n",
        "Print the numbers from 1 to 10 using while loop."
      ],
      "metadata": {
        "id": "TiEHMF7oN69j"
      }
    },
    {
      "cell_type": "code",
      "source": [
        "x=1\n",
        "while x< 11:\n",
        "  print(x)\n",
        "  x+=1"
      ],
      "metadata": {
        "colab": {
          "base_uri": "https://localhost:8080/"
        },
        "id": "UWtRO-u6koAu",
        "outputId": "c62471ab-3b24-4d13-a11f-3487af78789e"
      },
      "execution_count": 16,
      "outputs": [
        {
          "output_type": "stream",
          "name": "stdout",
          "text": [
            "1\n",
            "2\n",
            "3\n",
            "4\n",
            "5\n",
            "6\n",
            "7\n",
            "8\n",
            "9\n",
            "10\n"
          ]
        }
      ]
    },
    {
      "cell_type": "markdown",
      "source": [
        "# Loop assignment 2\n",
        "Create a list that is having 10,23,4,26,4,75,24,54 values and with the help of while loop, fetch the even numbers and print the numbers. "
      ],
      "metadata": {
        "id": "yJcCYakEPXIj"
      }
    },
    {
      "cell_type": "code",
      "source": [
        "lst =[10,23,4,26,4,75,24,54]\n",
        "\n",
        "i=0\n",
        "while i<len(lst):\n",
        "    if(lst[i]) % 2 == 0:\n",
        "        print(lst[i])\n",
        "    i+=1"
      ],
      "metadata": {
        "colab": {
          "base_uri": "https://localhost:8080/"
        },
        "id": "aAxOjNE85qvv",
        "outputId": "fb479e9d-52c1-47fd-f0d4-bc2aba7c7cc3"
      },
      "execution_count": 2,
      "outputs": [
        {
          "output_type": "stream",
          "name": "stdout",
          "text": [
            "10\n",
            "4\n",
            "26\n",
            "4\n",
            "24\n",
            "54\n"
          ]
        }
      ]
    },
    {
      "cell_type": "markdown",
      "source": [
        "# Module 1: Introduction to Python Assignment - 1\n",
        "1.  Create a list containing squares of numbers from 1 to 10 (HINT: use List Comprehension).\n",
        "2.  Write a Function to check if year number is a leap year.\n",
        "3.  Write a Function to take an array and return another array that contains the members of first array that are even.\n",
        "4.  Write a Function that takes 2 arrays and prints the members of first array that are present of second array. (HINT: use Membership  Comprehension)"
      ],
      "metadata": {
        "id": "K6EM6_2X62aK"
      }
    },
    {
      "cell_type": "code",
      "source": [
        "list1= {x: x*x for x in range(1,11)}\n",
        "print(list1)"
      ],
      "metadata": {
        "colab": {
          "base_uri": "https://localhost:8080/"
        },
        "id": "JxnUSfh_RIa2",
        "outputId": "91fd1264-2e05-4d33-f2dd-7686847f087c"
      },
      "execution_count": 14,
      "outputs": [
        {
          "output_type": "stream",
          "name": "stdout",
          "text": [
            "{1: 1, 2: 4, 3: 9, 4: 16, 5: 25, 6: 36, 7: 49, 8: 64, 9: 81, 10: 100}\n"
          ]
        }
      ]
    },
    {
      "cell_type": "code",
      "source": [
        "def checkLeap(year):\n",
        "  if((year%400 == 0)or\n",
        "   (year%100 != 0)and\n",
        "   (year%4== 0)):\n",
        "   print(f'{year} is a leap year')\n",
        "  else:\n",
        "    print(f'{year} is not a leap year')\n",
        "year= int(input('Enter the year: '))\n",
        "checkLeap(year)"
      ],
      "metadata": {
        "colab": {
          "base_uri": "https://localhost:8080/"
        },
        "id": "l10dCJ8wB3WK",
        "outputId": "0e429937-8f8c-4390-9a4a-d6c8338d4905"
      },
      "execution_count": 58,
      "outputs": [
        {
          "output_type": "stream",
          "name": "stdout",
          "text": [
            "Enter the year: 1700\n",
            "1700 is not a leap year\n"
          ]
        }
      ]
    },
    {
      "cell_type": "code",
      "source": [
        "import numpy as np\n",
        "arr1= np.arange(1, 51)\n",
        "arr2= arr1[arr1%2 ==0]\n",
        "print(f'This is the first array: ' , '\\n' , arr1)\n",
        "print(f'This is the second array: ' , '\\n' , arr2)"
      ],
      "metadata": {
        "colab": {
          "base_uri": "https://localhost:8080/"
        },
        "id": "O5-GnywCE0NJ",
        "outputId": "34e458e3-a93f-4230-c7d0-db9530cb80ea"
      },
      "execution_count": 68,
      "outputs": [
        {
          "output_type": "stream",
          "name": "stdout",
          "text": [
            "This is the first array:  \n",
            " [ 1  2  3  4  5  6  7  8  9 10 11 12 13 14 15 16 17 18 19 20 21 22 23 24\n",
            " 25 26 27 28 29 30 31 32 33 34 35 36 37 38 39 40 41 42 43 44 45 46 47 48\n",
            " 49 50]\n",
            "This is the second array:  \n",
            " [ 2  4  6  8 10 12 14 16 18 20 22 24 26 28 30 32 34 36 38 40 42 44 46 48\n",
            " 50]\n"
          ]
        }
      ]
    },
    {
      "cell_type": "code",
      "source": [
        "def layer(num1, num2):\n",
        "  for x in num1:\n",
        "    if x in num2:\n",
        "      print(x)\n",
        "layer([9,4,0,3,4,8,3,3,9,3],[8,6,0,0,9,9,2,1,4,9])"
      ],
      "metadata": {
        "colab": {
          "base_uri": "https://localhost:8080/"
        },
        "id": "bnxqAZKmCMb2",
        "outputId": "2b03b83a-c21e-478e-f7df-92cb4b7727d2"
      },
      "execution_count": 72,
      "outputs": [
        {
          "output_type": "stream",
          "name": "stdout",
          "text": [
            "9\n",
            "4\n",
            "0\n",
            "4\n",
            "8\n",
            "9\n"
          ]
        }
      ]
    },
    {
      "cell_type": "markdown",
      "source": [
        "# Module 1 - Introduction toPython Assignment - 2\n",
        "\n",
        "#1.  Create 1st tuple with values -> (10,20,30), 2nd tuple with values -> (40,50,60).\n",
        "\n",
        "a.  Concatenate the two tuples and store it in “t_combine”\n",
        "\n",
        "b.  Repeat the elements of “t_combine” 3times \n",
        "\n",
        "c.  Access the 3rd element from “t_combine”\n",
        "\n",
        "d.  Access the first three elements from  “t_combine”\n",
        "\n",
        "e.  Access the last three elements from  “t_combine”\n",
        "\n",
        "#2.  Create a list ‘my_list’ with these elements: \n",
        "\n",
        "a.  First element is a tuple with values 1,2,3 \n",
        "\n",
        "b.  Second element is a tuple with values “a”,”b”,”c”\n",
        "\n",
        "c.  Third element is a tuple with values True,False \n",
        "\n",
        "#3.  Append a new tuple – (1,’a’,True) to  ‘my_list’\n",
        "\n",
        "a.  Append a new list – (“sparta”,123) to my_list \n",
        "\n",
        "#4.  Create a dictionary ‘fruit’where: \n",
        "\n",
        "a.  The first key is ‘Fruit’ and the values are  (“Apple”,”Banana”,”Mango”,”Guava”)\n",
        "\n",
        "b.  The second key is ‘Cost’ and the values are(85,54,120,70) \n",
        "\n",
        "c.  Extract all the keys from ‘fruit’\n",
        "\n",
        "d.  Extract all the values from ‘fruit’\n",
        "\n",
        "#5.  Crete a set named ‘my_set’ with values (1,1,”a”,”a”,True,True) and print theresult"
      ],
      "metadata": {
        "id": "o2oYrv_CK-7V"
      }
    },
    {
      "cell_type": "code",
      "source": [
        "a,b= (10,20,30), (40,50,60)\n",
        "t_combine = a+b\n",
        "print(t_combine)"
      ],
      "metadata": {
        "colab": {
          "base_uri": "https://localhost:8080/"
        },
        "id": "7NgyniLfJ6H_",
        "outputId": "8dee378b-f8a8-4ddf-b2f9-74a06da4e63c"
      },
      "execution_count": 75,
      "outputs": [
        {
          "output_type": "stream",
          "name": "stdout",
          "text": [
            "(10, 20, 30, 40, 50, 60)\n"
          ]
        }
      ]
    },
    {
      "cell_type": "code",
      "source": [
        "t_combine_3times= t_combine*3\n",
        "print(t_combine_3times)"
      ],
      "metadata": {
        "colab": {
          "base_uri": "https://localhost:8080/"
        },
        "id": "idDK_X8JLvLO",
        "outputId": "d72fd007-8ef2-4ae9-a03d-4e2d9bf278e4"
      },
      "execution_count": 78,
      "outputs": [
        {
          "output_type": "stream",
          "name": "stdout",
          "text": [
            "(10, 20, 30, 40, 50, 60, 10, 20, 30, 40, 50, 60, 10, 20, 30, 40, 50, 60)\n"
          ]
        }
      ]
    },
    {
      "cell_type": "code",
      "source": [
        "t_combine[2]"
      ],
      "metadata": {
        "colab": {
          "base_uri": "https://localhost:8080/"
        },
        "id": "EOPV4LruMb5-",
        "outputId": "ef17048b-a36b-46f9-dc5c-cbf934952b5c"
      },
      "execution_count": 83,
      "outputs": [
        {
          "output_type": "execute_result",
          "data": {
            "text/plain": [
              "30"
            ]
          },
          "metadata": {},
          "execution_count": 83
        }
      ]
    },
    {
      "cell_type": "code",
      "source": [
        "t_combine[:3]"
      ],
      "metadata": {
        "colab": {
          "base_uri": "https://localhost:8080/"
        },
        "id": "5gO6dVoBMx1H",
        "outputId": "b3e7848c-88c1-45a4-c162-27779a132a16"
      },
      "execution_count": 85,
      "outputs": [
        {
          "output_type": "execute_result",
          "data": {
            "text/plain": [
              "(10, 20, 30)"
            ]
          },
          "metadata": {},
          "execution_count": 85
        }
      ]
    },
    {
      "cell_type": "code",
      "source": [
        "t_combine[-3:]"
      ],
      "metadata": {
        "colab": {
          "base_uri": "https://localhost:8080/"
        },
        "id": "XFGZj2PqNNBK",
        "outputId": "9ce010fb-96e6-4cf8-ea81-6997976ad2ed"
      },
      "execution_count": 87,
      "outputs": [
        {
          "output_type": "execute_result",
          "data": {
            "text/plain": [
              "(40, 50, 60)"
            ]
          },
          "metadata": {},
          "execution_count": 87
        }
      ]
    },
    {
      "cell_type": "code",
      "source": [
        "num= (1,2,3)\n",
        "alpha= ('a','b','c')\n",
        "boolean= (True, False)\n",
        "my_list= [num, alpha, boolean]\n",
        "print(type(my_list))\n",
        "print(my_list)"
      ],
      "metadata": {
        "colab": {
          "base_uri": "https://localhost:8080/"
        },
        "id": "Ys3d7DRyNVFS",
        "outputId": "c2ae48d0-c21c-4a60-8bed-a79bcb6e56b3"
      },
      "execution_count": 99,
      "outputs": [
        {
          "output_type": "stream",
          "name": "stdout",
          "text": [
            "<class 'list'>\n",
            "[(1, 2, 3), ('a', 'b', 'c'), (True, False)]\n"
          ]
        }
      ]
    },
    {
      "cell_type": "code",
      "source": [
        "new_tuple= (1,'a',True)\n",
        "my_list.append(new_tuple)\n",
        "my_list"
      ],
      "metadata": {
        "colab": {
          "base_uri": "https://localhost:8080/"
        },
        "id": "QUeVAiVpOPR7",
        "outputId": "1b072e9d-f1c5-4fe9-811a-ec56fbdee5fe"
      },
      "execution_count": 100,
      "outputs": [
        {
          "output_type": "execute_result",
          "data": {
            "text/plain": [
              "[(1, 2, 3), ('a', 'b', 'c'), (True, False), (1, 'a', True)]"
            ]
          },
          "metadata": {},
          "execution_count": 100
        }
      ]
    },
    {
      "cell_type": "code",
      "source": [
        "new_list= (\"sparta\", 123)\n",
        "my_list.append(new_list)\n",
        "my_list"
      ],
      "metadata": {
        "colab": {
          "base_uri": "https://localhost:8080/"
        },
        "id": "ooEqhv-XOr98",
        "outputId": "222a6d0c-0124-419d-ef87-51d28cbc1ab3"
      },
      "execution_count": 101,
      "outputs": [
        {
          "output_type": "execute_result",
          "data": {
            "text/plain": [
              "[(1, 2, 3), ('a', 'b', 'c'), (True, False), (1, 'a', True), ('sparta', 123)]"
            ]
          },
          "metadata": {},
          "execution_count": 101
        }
      ]
    },
    {
      "cell_type": "code",
      "source": [
        "Fruit= {\"Apple\":85, \"Banana\":54, \"Mango\":120, \"Guava\":70}\n",
        "Fruit"
      ],
      "metadata": {
        "colab": {
          "base_uri": "https://localhost:8080/"
        },
        "id": "RiqAoYMvQqrE",
        "outputId": "c486d30e-d149-489c-eb8f-ee001ee5d6cb"
      },
      "execution_count": 103,
      "outputs": [
        {
          "output_type": "execute_result",
          "data": {
            "text/plain": [
              "{'Apple': 85, 'Banana': 54, 'Guava': 70, 'Mango': 120}"
            ]
          },
          "metadata": {},
          "execution_count": 103
        }
      ]
    },
    {
      "cell_type": "code",
      "source": [
        "Fruit.keys()"
      ],
      "metadata": {
        "colab": {
          "base_uri": "https://localhost:8080/"
        },
        "id": "XVA5ZlhRRpiW",
        "outputId": "ab9c0a65-53f4-482e-c7e9-ddcb07c5532f"
      },
      "execution_count": 104,
      "outputs": [
        {
          "output_type": "execute_result",
          "data": {
            "text/plain": [
              "dict_keys(['Apple', 'Banana', 'Mango', 'Guava'])"
            ]
          },
          "metadata": {},
          "execution_count": 104
        }
      ]
    },
    {
      "cell_type": "code",
      "source": [
        "Fruit.values()"
      ],
      "metadata": {
        "colab": {
          "base_uri": "https://localhost:8080/"
        },
        "id": "Ja-WzjVZR8BY",
        "outputId": "54904498-de8a-44e9-c2eb-361d2ec5ed71"
      },
      "execution_count": 106,
      "outputs": [
        {
          "output_type": "execute_result",
          "data": {
            "text/plain": [
              "dict_values([85, 54, 120, 70])"
            ]
          },
          "metadata": {},
          "execution_count": 106
        }
      ]
    },
    {
      "cell_type": "code",
      "source": [
        "my_set= {1,1,'a','a',True,True}\n",
        "type(my_set)\n",
        "print(my_set)"
      ],
      "metadata": {
        "colab": {
          "base_uri": "https://localhost:8080/"
        },
        "id": "dybx1487SDcK",
        "outputId": "8958d6af-8899-4920-d978-5dcb65e19ee8"
      },
      "execution_count": 109,
      "outputs": [
        {
          "output_type": "stream",
          "name": "stdout",
          "text": [
            "{1, 'a'}\n"
          ]
        }
      ]
    },
    {
      "cell_type": "code",
      "source": [
        ""
      ],
      "metadata": {
        "id": "b7Rr48LdSiJe"
      },
      "execution_count": null,
      "outputs": []
    }
  ]
}
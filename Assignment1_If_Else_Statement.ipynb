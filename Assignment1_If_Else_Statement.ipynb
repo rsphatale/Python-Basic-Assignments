{
  "nbformat": 4,
  "nbformat_minor": 0,
  "metadata": {
    "colab": {
      "name": "Assignment1- If-Else Statement.ipynb",
      "provenance": [],
      "collapsed_sections": []
    },
    "kernelspec": {
      "name": "python3",
      "display_name": "Python 3"
    },
    "language_info": {
      "name": "python"
    }
  },
  "cells": [
    {
      "cell_type": "code",
      "execution_count": 8,
      "metadata": {
        "colab": {
          "base_uri": "https://localhost:8080/"
        },
        "id": "0_5Bnq1vzXPi",
        "outputId": "d9b40351-bdbd-469c-8a4d-6f90328039d4"
      },
      "outputs": [
        {
          "output_type": "stream",
          "name": "stdout",
          "text": [
            "Value of 'a': 20\n",
            "Value of 'b': 20\n",
            "a is equal to b\n"
          ]
        }
      ],
      "source": [
        "a= input(\"Value of 'a': \")\n",
        "b= input(\"Value of 'b': \")\n",
        "if a>b:\n",
        "  print(\"a is greater than b\")\n",
        "elif a==b:\n",
        "  print('a is equal to b')\n",
        "else:\n",
        "  print('a is less than b')"
      ]
    },
    {
      "cell_type": "code",
      "source": [
        ""
      ],
      "metadata": {
        "id": "t8BVc1Xs0fv5"
      },
      "execution_count": null,
      "outputs": []
    }
  ]
}
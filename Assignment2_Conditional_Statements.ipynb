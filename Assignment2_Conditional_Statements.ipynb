{
  "nbformat": 4,
  "nbformat_minor": 0,
  "metadata": {
    "colab": {
      "name": "Assignment2- Conditional Statements.ipynb",
      "provenance": [],
      "collapsed_sections": []
    },
    "kernelspec": {
      "name": "python3",
      "display_name": "Python 3"
    },
    "language_info": {
      "name": "python"
    }
  },
  "cells": [
    {
      "cell_type": "code",
      "execution_count": 17,
      "metadata": {
        "colab": {
          "base_uri": "https://localhost:8080/"
        },
        "id": "K1VWbTTY-0bT",
        "outputId": "b6a3cb91-e468-4ae0-fb4b-483f03966ead"
      },
      "outputs": [
        {
          "output_type": "stream",
          "name": "stdout",
          "text": [
            "Enter the value of a: 20.2\n",
            "Enter the value of b: 50.6\n",
            "Enter the value of c: 50.7\n",
            "50.7 is the greatest number.\n"
          ]
        }
      ],
      "source": [
        "a= input(\"Enter the value of a: \")\n",
        "b= input(\"Enter the value of b: \")\n",
        "c= input(\"Enter the value of c: \")\n",
        "if a> b and a>c:\n",
        "  print(f\"{a} is the greatest number.\")\n",
        "elif b>a and b>c:\n",
        "  print(f\"{b} is the greatest number.\")\n",
        "elif a==b==c:\n",
        "  print(\"'a', 'b' and 'c' are equal.\")\n",
        "else:\n",
        "  print(f\"{c} is the greatest number.\")"
      ]
    },
    {
      "cell_type": "code",
      "source": [
        ""
      ],
      "metadata": {
        "id": "4OKzVeUxALOE"
      },
      "execution_count": null,
      "outputs": []
    }
  ]
}
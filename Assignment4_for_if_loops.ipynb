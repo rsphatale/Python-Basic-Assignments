{
  "nbformat": 4,
  "nbformat_minor": 0,
  "metadata": {
    "colab": {
      "name": "Assignment4.ipynb",
      "provenance": [],
      "collapsed_sections": []
    },
    "kernelspec": {
      "name": "python3",
      "display_name": "Python 3"
    },
    "language_info": {
      "name": "python"
    }
  },
  "cells": [
    {
      "cell_type": "markdown",
      "source": [
        "# Loops Assignment\n",
        "create a list that is having 10,23,4,26,4,75,24,54 values and with the help of while loop, fetch the even numbers and print the numbers"
      ],
      "metadata": {
        "id": "8GcSc4Oh75O-"
      }
    },
    {
      "cell_type": "code",
      "execution_count": 9,
      "metadata": {
        "colab": {
          "base_uri": "https://localhost:8080/"
        },
        "id": "rlLGjyWm7YmQ",
        "outputId": "033ce293-3cda-4772-afcc-e043efbb5b55"
      },
      "outputs": [
        {
          "output_type": "stream",
          "name": "stdout",
          "text": [
            "10\n",
            "4\n",
            "26\n",
            "4\n",
            "24\n",
            "54\n"
          ]
        }
      ],
      "source": [
        "my_list= [10,23,4,26,4,75,24,54]\n",
        "for x in my_list:\n",
        "  if x%2==0:\n",
        "    print(x)"
      ]
    },
    {
      "cell_type": "code",
      "source": [
        ""
      ],
      "metadata": {
        "id": "7NN8B2s971kk"
      },
      "execution_count": null,
      "outputs": []
    }
  ]
}
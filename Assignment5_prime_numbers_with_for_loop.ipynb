{
  "nbformat": 4,
  "nbformat_minor": 0,
  "metadata": {
    "colab": {
      "name": "Assignment5.ipynb",
      "provenance": [],
      "collapsed_sections": []
    },
    "kernelspec": {
      "name": "python3",
      "display_name": "Python 3"
    },
    "language_info": {
      "name": "python"
    }
  },
  "cells": [
    {
      "cell_type": "markdown",
      "source": [
        "# Loops Assignment\n",
        "Create an array that is having user defined inputs and with the help of for loop, fetch all the prime numbers and print the numbers."
      ],
      "metadata": {
        "id": "8GcSc4Oh75O-"
      }
    },
    {
      "cell_type": "code",
      "source": [
        "lower = int(input(\"Set lower limit: \"))\n",
        "upper = int(input(\"Set upper limit: \"))\n",
        "\n",
        "print(\"Prime numbers between\", lower, \"and\", upper, \"are:\")\n",
        "\n",
        "for x in range(lower, upper ):\n",
        "   if x > 1:\n",
        "       for i in range(2, x):\n",
        "           if (x % i) == 0:\n",
        "               break\n",
        "       else:\n",
        "           print(x, end= \", \")"
      ],
      "metadata": {
        "colab": {
          "base_uri": "https://localhost:8080/"
        },
        "id": "f9fhvzXKFTsd",
        "outputId": "520660e4-a85c-43a4-edd7-82b5f91ccb66"
      },
      "execution_count": 46,
      "outputs": [
        {
          "output_type": "stream",
          "name": "stdout",
          "text": [
            "Set lower limit: 0\n",
            "Set upper limit: 100\n",
            "Prime numbers between 0 and 100 are:\n",
            "2, 3, 5, 7, 11, 13, 17, 19, 23, 29, 31, 37, 41, 43, 47, 53, 59, 61, 67, 71, 73, 79, 83, 89, 97, "
          ]
        }
      ]
    },
    {
      "cell_type": "code",
      "execution_count": 40,
      "metadata": {
        "colab": {
          "base_uri": "https://localhost:8080/"
        },
        "id": "rlLGjyWm7YmQ",
        "outputId": "5a2855ba-824e-4325-9f0f-dc5971ceed26"
      },
      "outputs": [
        {
          "output_type": "stream",
          "name": "stdout",
          "text": [
            "Enter the number: 5\n",
            "5 is a prime number\n"
          ]
        }
      ],
      "source": [
        "number= int(input(\"Enter the number: \"))\n",
        "flag= False\n",
        "if number>1:\n",
        "  for y in range(2, number):\n",
        "    if (number % y) == 0:\n",
        "      flag= True\n",
        "      break\n",
        "if flag:\n",
        "    print(number, \"is not a prime number\")\n",
        "else:\n",
        "    print(number, \"is a prime number\")"
      ]
    },
    {
      "cell_type": "code",
      "source": [
        ""
      ],
      "metadata": {
        "id": "i3cAQj5DFvMs"
      },
      "execution_count": null,
      "outputs": []
    }
  ]
}
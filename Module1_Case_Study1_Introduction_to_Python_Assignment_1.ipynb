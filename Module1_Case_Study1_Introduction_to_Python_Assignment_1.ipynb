{
  "nbformat": 4,
  "nbformat_minor": 0,
  "metadata": {
    "colab": {
      "name": "Module1- Introduction to Python Assignment- 1.ipynb",
      "provenance": [],
      "collapsed_sections": []
    },
    "kernelspec": {
      "name": "python3",
      "display_name": "Python 3"
    },
    "language_info": {
      "name": "python"
    }
  },
  "cells": [
    {
      "cell_type": "code",
      "execution_count": null,
      "metadata": {
        "colab": {
          "base_uri": "https://localhost:8080/"
        },
        "id": "ZetmdIcNuJQE",
        "outputId": "c1e7ad29-859a-4199-c7af-3be3311425f4"
      },
      "outputs": [
        {
          "output_type": "stream",
          "name": "stdout",
          "text": [
            "{1: 1, 2: 4, 3: 9, 4: 16, 5: 25, 6: 36, 7: 49, 8: 64, 9: 81, 10: 100}\n"
          ]
        }
      ],
      "source": [
        "# Problem 1\n",
        "list1= {x: x*x for x in range(1, 11)}\n",
        "print(list1)"
      ]
    },
    {
      "cell_type": "code",
      "source": [
        "# Problem 2\n",
        "year= input(\"input year: \")\n",
        "year= int(year)\n",
        "if year%4== 0:\n",
        "  print(f\"Yes, {year} is a leap year.\")\n",
        "else:\n",
        "  print(f\"No, {year} is not a leap year.\")"
      ],
      "metadata": {
        "colab": {
          "base_uri": "https://localhost:8080/"
        },
        "id": "yzd4I4_Iu7OQ",
        "outputId": "c6bb1d3d-3a45-4bfc-b486-8e877f8f1a41"
      },
      "execution_count": null,
      "outputs": [
        {
          "output_type": "stream",
          "name": "stdout",
          "text": [
            "input year: 1900\n",
            "Yes, 1900 is a leap year.\n"
          ]
        }
      ]
    },
    {
      "cell_type": "code",
      "source": [
        "# Problem 2\n",
        "def CheckLeap(Year):\n",
        "  if((Year%400 == 0)or\n",
        "   (Year%100 != 0)and\n",
        "   (Year%4== 0)):\n",
        "   print(f\"{Year} is a leap year.\")\n",
        "  else:\n",
        "    print(f\"{Year} is not a leap year.\")\n",
        "Year= int(input(\"Input year: \"))\n",
        "CheckLeap(Year)"
      ],
      "metadata": {
        "colab": {
          "base_uri": "https://localhost:8080/"
        },
        "id": "P-VcY7b_vriG",
        "outputId": "0a50e442-0cf5-4ce2-80a1-d1a10b32b41c"
      },
      "execution_count": null,
      "outputs": [
        {
          "output_type": "stream",
          "name": "stdout",
          "text": [
            "Input year: 1800\n",
            "1800 is not a leap year.\n"
          ]
        }
      ]
    },
    {
      "cell_type": "code",
      "source": [
        "# Problem 3- using numpy \n",
        "import numpy as np\n",
        "\n",
        "arr1 = np.arange(10, 51)\n",
        "arr2 = arr1[arr1 % 2 == 0]\n",
        "arr2"
      ],
      "metadata": {
        "colab": {
          "base_uri": "https://localhost:8080/"
        },
        "id": "WcuKKYTF2ZU-",
        "outputId": "782ee765-6fe6-4b23-c42e-d8d865b580df"
      },
      "execution_count": 37,
      "outputs": [
        {
          "output_type": "execute_result",
          "data": {
            "text/plain": [
              "array([10, 12, 14, 16, 18, 20, 22, 24, 26, 28, 30, 32, 34, 36, 38, 40, 42,\n",
              "       44, 46, 48, 50])"
            ]
          },
          "metadata": {},
          "execution_count": 37
        }
      ]
    },
    {
      "cell_type": "code",
      "source": [
        "# Problem 3- using numpy and lambda function\n",
        "def even(x):\n",
        "  return np.array(list(filter(lambda x: x%2== 0, x)))\n",
        "x= np.arange(20,51)\n",
        "even(x)"
      ],
      "metadata": {
        "colab": {
          "base_uri": "https://localhost:8080/"
        },
        "id": "mLq5FTEDdmBq",
        "outputId": "401be951-03ea-4ab9-f1b7-497ff2a107cb"
      },
      "execution_count": 30,
      "outputs": [
        {
          "output_type": "execute_result",
          "data": {
            "text/plain": [
              "array([20, 22, 24, 26, 28, 30, 32, 34, 36, 38, 40, 42, 44, 46, 48, 50])"
            ]
          },
          "metadata": {},
          "execution_count": 30
        }
      ]
    },
    {
      "cell_type": "code",
      "source": [
        "# Problem 4\n",
        "def member(arr1, arr2):\n",
        "  for i in arr1:\n",
        "    if i in arr2:\n",
        "      print(i)\n",
        "member([1,2,3,4,5,6,7,8,9], [4,0,8,2,1])"
      ],
      "metadata": {
        "colab": {
          "base_uri": "https://localhost:8080/"
        },
        "id": "hexFSwxJ7S03",
        "outputId": "7cb83934-c67d-4aef-bcb6-a5a4d601a998"
      },
      "execution_count": 36,
      "outputs": [
        {
          "output_type": "stream",
          "name": "stdout",
          "text": [
            "1\n",
            "2\n",
            "4\n",
            "8\n"
          ]
        }
      ]
    },
    {
      "cell_type": "code",
      "source": [
        ""
      ],
      "metadata": {
        "id": "eDSqW-JqlpCQ"
      },
      "execution_count": null,
      "outputs": []
    }
  ]
}
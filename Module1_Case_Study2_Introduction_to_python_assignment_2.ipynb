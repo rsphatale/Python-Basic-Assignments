{
  "nbformat": 4,
  "nbformat_minor": 0,
  "metadata": {
    "colab": {
      "name": "Module1- Case Study2- Introduction to python assignment- 2.ipynb",
      "provenance": [],
      "collapsed_sections": []
    },
    "kernelspec": {
      "name": "python3",
      "display_name": "Python 3"
    },
    "language_info": {
      "name": "python"
    }
  },
  "cells": [
    {
      "cell_type": "markdown",
      "source": [
        "## Problem 1- Create tuples with values (10,20,30) and (40,50,60)"
      ],
      "metadata": {
        "id": "YemjdPIEyXrU"
      }
    },
    {
      "cell_type": "code",
      "execution_count": 1,
      "metadata": {
        "id": "5h7WP384u07E"
      },
      "outputs": [],
      "source": [
        "# create tuples a and b\n",
        "a= (10,20,30)\n",
        "b= (40,50,60)"
      ]
    },
    {
      "cell_type": "code",
      "source": [
        "# Concatenate a and b in t_combine\n",
        "t_combine= (a+b)\n",
        "print(t_combine)"
      ],
      "metadata": {
        "colab": {
          "base_uri": "https://localhost:8080/"
        },
        "id": "mluW-dk9vSQu",
        "outputId": "deb213ed-146c-4b80-da1d-e1f2d582d10f"
      },
      "execution_count": 2,
      "outputs": [
        {
          "output_type": "stream",
          "name": "stdout",
          "text": [
            "(10, 20, 30, 40, 50, 60)\n"
          ]
        }
      ]
    },
    {
      "cell_type": "code",
      "source": [
        "# Repeat the elements of t_combine 3 times\n",
        "t_combine* 3"
      ],
      "metadata": {
        "colab": {
          "base_uri": "https://localhost:8080/"
        },
        "id": "vwl5EjbpwNdl",
        "outputId": "f4e91e4d-27cd-46a6-f2c3-af28581f7f99"
      },
      "execution_count": 3,
      "outputs": [
        {
          "output_type": "execute_result",
          "data": {
            "text/plain": [
              "(10, 20, 30, 40, 50, 60, 10, 20, 30, 40, 50, 60, 10, 20, 30, 40, 50, 60)"
            ]
          },
          "metadata": {},
          "execution_count": 3
        }
      ]
    },
    {
      "cell_type": "code",
      "source": [
        "# access 3rd element from \"t_combine\"\n",
        "t_combine[2]"
      ],
      "metadata": {
        "colab": {
          "base_uri": "https://localhost:8080/"
        },
        "id": "XQ2tLbcxxZRM",
        "outputId": "fe63e3b7-74ae-4516-9bb3-6fab6b5faa69"
      },
      "execution_count": 4,
      "outputs": [
        {
          "output_type": "execute_result",
          "data": {
            "text/plain": [
              "30"
            ]
          },
          "metadata": {},
          "execution_count": 4
        }
      ]
    },
    {
      "cell_type": "code",
      "source": [
        "# access the first three elements from t_combine\n",
        "t_combine[0:3]"
      ],
      "metadata": {
        "colab": {
          "base_uri": "https://localhost:8080/"
        },
        "id": "SPQBIOCUxmzE",
        "outputId": "742dbce1-3e6d-4e59-88e2-b0aaf0fb6511"
      },
      "execution_count": 5,
      "outputs": [
        {
          "output_type": "execute_result",
          "data": {
            "text/plain": [
              "(10, 20, 30)"
            ]
          },
          "metadata": {},
          "execution_count": 5
        }
      ]
    },
    {
      "cell_type": "code",
      "source": [
        "# access the last three elements from t_combine\n",
        "t_combine[-3:]"
      ],
      "metadata": {
        "colab": {
          "base_uri": "https://localhost:8080/"
        },
        "id": "Z4rxSt22x9RH",
        "outputId": "ee24707f-fb16-46f5-f1e6-e1768691e823"
      },
      "execution_count": 6,
      "outputs": [
        {
          "output_type": "execute_result",
          "data": {
            "text/plain": [
              "(40, 50, 60)"
            ]
          },
          "metadata": {},
          "execution_count": 6
        }
      ]
    },
    {
      "cell_type": "code",
      "source": [
        ""
      ],
      "metadata": {
        "id": "jfrRBvSUzIZY"
      },
      "execution_count": 6,
      "outputs": []
    },
    {
      "cell_type": "markdown",
      "source": [
        "# Problem 2- Create my_list with these elements"
      ],
      "metadata": {
        "id": "QRnYNdKgy4uM"
      }
    },
    {
      "cell_type": "code",
      "source": [
        "# create my_list with \n",
        "# first element of tuple with values 1,2,3\n",
        "# second element of list is tuple with values 'a','b','c'\n",
        "# third element of list is tuple with values True, False\n",
        "num= (1,2,3)\n",
        "alpha= ('a','b','c')\n",
        "b_lean= (True, False)\n",
        "my_list= [num, alpha, b_lean]\n",
        "\n",
        "type(num), type(alpha), type(b_lean), type(my_list)"
      ],
      "metadata": {
        "colab": {
          "base_uri": "https://localhost:8080/"
        },
        "id": "JC8DwM7JyEkz",
        "outputId": "2ecc9352-7f48-467a-8e25-ff75ec767162"
      },
      "execution_count": 7,
      "outputs": [
        {
          "output_type": "execute_result",
          "data": {
            "text/plain": [
              "(tuple, tuple, tuple, list)"
            ]
          },
          "metadata": {},
          "execution_count": 7
        }
      ]
    },
    {
      "cell_type": "markdown",
      "source": [
        "# Problem3- Append new tuple= (1,'a',True) to my_list\n"
      ],
      "metadata": {
        "id": "9CZaJxXn04rk"
      }
    },
    {
      "cell_type": "code",
      "source": [
        "new_tuple= (1,'a', True)\n",
        "my_list.append(new_tuple)\n",
        "my_list, type(my_list)"
      ],
      "metadata": {
        "colab": {
          "base_uri": "https://localhost:8080/"
        },
        "id": "W9UROylB1RoK",
        "outputId": "14268c99-bb70-4a06-cf7e-11c2a7b1714e"
      },
      "execution_count": 8,
      "outputs": [
        {
          "output_type": "execute_result",
          "data": {
            "text/plain": [
              "([(1, 2, 3), ('a', 'b', 'c'), (True, False), (1, 'a', True)], list)"
            ]
          },
          "metadata": {},
          "execution_count": 8
        }
      ]
    },
    {
      "cell_type": "code",
      "source": [
        "# append new list[\"Sparta\", 123] to my_list\n",
        "new_list= [\"Sparta\", 123]\n",
        "my_list.append(new_list)\n",
        "my_list"
      ],
      "metadata": {
        "colab": {
          "base_uri": "https://localhost:8080/"
        },
        "id": "2OBeWGrk11eg",
        "outputId": "7ba01bec-6f7e-4843-c079-8743e23ebe1a"
      },
      "execution_count": 10,
      "outputs": [
        {
          "output_type": "execute_result",
          "data": {
            "text/plain": [
              "[(1, 2, 3), ('a', 'b', 'c'), (True, False), (1, 'a', True), ['Sparta', 123]]"
            ]
          },
          "metadata": {},
          "execution_count": 10
        }
      ]
    },
    {
      "cell_type": "code",
      "source": [
        ""
      ],
      "metadata": {
        "id": "Y2-8b8Ep3OFa"
      },
      "execution_count": null,
      "outputs": []
    },
    {
      "cell_type": "markdown",
      "source": [
        "# Create a dictionary \"Fruit\" where,\n",
        "# first key is fruits and values are (\"Apple\",\"Banana\",\"Mango\",\"Guava\")\n",
        "# second key is cost and values are (85,54,120,70)"
      ],
      "metadata": {
        "id": "uo6o40JN3gvI"
      }
    },
    {
      "cell_type": "code",
      "source": [
        "Fruit= {\"Apple\": 85, \"Banana\": 54, \"Mango\": 120, \"Guava\": 70}\n",
        "print(Fruit)"
      ],
      "metadata": {
        "colab": {
          "base_uri": "https://localhost:8080/"
        },
        "id": "6bkmoWT34Ho3",
        "outputId": "1d41bdd4-2c12-45e3-f2ba-7ad8e3474e88"
      },
      "execution_count": 24,
      "outputs": [
        {
          "output_type": "stream",
          "name": "stdout",
          "text": [
            "{'Apple': 85, 'Banana': 54, 'Mango': 120, 'Guava': 70}\n"
          ]
        }
      ]
    },
    {
      "cell_type": "code",
      "source": [
        "type(Fruit)"
      ],
      "metadata": {
        "colab": {
          "base_uri": "https://localhost:8080/"
        },
        "id": "DCkK1-994dzV",
        "outputId": "199bedd2-10f4-48ae-d899-3a181e65eb97"
      },
      "execution_count": 25,
      "outputs": [
        {
          "output_type": "execute_result",
          "data": {
            "text/plain": [
              "dict"
            ]
          },
          "metadata": {},
          "execution_count": 25
        }
      ]
    },
    {
      "cell_type": "code",
      "source": [
        "Fruit.keys()"
      ],
      "metadata": {
        "colab": {
          "base_uri": "https://localhost:8080/"
        },
        "id": "lU_YY5E67TG-",
        "outputId": "de1fb225-8c5b-4ec8-b48a-357bfa8fec81"
      },
      "execution_count": 26,
      "outputs": [
        {
          "output_type": "execute_result",
          "data": {
            "text/plain": [
              "dict_keys(['Apple', 'Banana', 'Mango', 'Guava'])"
            ]
          },
          "metadata": {},
          "execution_count": 26
        }
      ]
    },
    {
      "cell_type": "code",
      "source": [
        "Fruit.values()"
      ],
      "metadata": {
        "colab": {
          "base_uri": "https://localhost:8080/"
        },
        "id": "af2sFyQ77nZJ",
        "outputId": "af40ea44-476b-495a-a920-9cf45704be34"
      },
      "execution_count": 27,
      "outputs": [
        {
          "output_type": "execute_result",
          "data": {
            "text/plain": [
              "dict_values([85, 54, 120, 70])"
            ]
          },
          "metadata": {},
          "execution_count": 27
        }
      ]
    },
    {
      "cell_type": "code",
      "source": [
        ""
      ],
      "metadata": {
        "id": "vfTl4qgT8DUk"
      },
      "execution_count": null,
      "outputs": []
    },
    {
      "cell_type": "markdown",
      "source": [
        "# Create a set \"my_set\" with values (1,1,'a','a',True,True)"
      ],
      "metadata": {
        "id": "GZhctdpw7y-6"
      }
    },
    {
      "cell_type": "code",
      "source": [
        "my_set= {1,1,'a','a',True,True}\n",
        "my_set"
      ],
      "metadata": {
        "colab": {
          "base_uri": "https://localhost:8080/"
        },
        "id": "KuYp4fdt7sbm",
        "outputId": "a808d68b-bf3e-4b53-acb0-fde8908e350b"
      },
      "execution_count": 1,
      "outputs": [
        {
          "output_type": "execute_result",
          "data": {
            "text/plain": [
              "{1, 'a'}"
            ]
          },
          "metadata": {},
          "execution_count": 1
        }
      ]
    },
    {
      "cell_type": "code",
      "source": [
        ""
      ],
      "metadata": {
        "id": "r7YMpU8X8WI3"
      },
      "execution_count": null,
      "outputs": []
    }
  ]
}
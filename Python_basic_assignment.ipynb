{
  "nbformat": 4,
  "nbformat_minor": 0,
  "metadata": {
    "colab": {
      "name": "Python basic assignment.ipynb",
      "provenance": [],
      "collapsed_sections": []
    },
    "kernelspec": {
      "name": "python3",
      "display_name": "Python 3"
    },
    "language_info": {
      "name": "python"
    }
  },
  "cells": [
    {
      "cell_type": "code",
      "source": [
        "# assignment 1\n",
        "\n",
        "a,b= 30,20\n",
        "if(a>b):\n",
        "  print(\"a is greater than b\")\n",
        "else:\n",
        "  print(\"b is greater than a\")"
      ],
      "metadata": {
        "colab": {
          "base_uri": "https://localhost:8080/"
        },
        "id": "h6CSKY8ZWuWb",
        "outputId": "f8d4194c-879b-4a54-968d-f6bf8e115563"
      },
      "execution_count": 11,
      "outputs": [
        {
          "output_type": "stream",
          "name": "stdout",
          "text": [
            "a is greater than b\n"
          ]
        }
      ]
    },
    {
      "cell_type": "code",
      "source": [
        "# assignment 2\n",
        "\n",
        "x= int(input(\"Enter first number:\"))\n",
        "y= int(input(\"Enter second number:\"))\n",
        "z= int(input(\"Enter third number:\"))\n",
        "\n",
        "if(x>y and x>z):\n",
        "  print(\" x is greatest among all three.\")\n",
        "elif(y>x and y>z):\n",
        "  print(\" y is greatest among all three.\")\n",
        "elif(z>x and z>y):\n",
        "  print(\" z is greater among all three.\")\n",
        "else:\n",
        "  print(\"All numbers are equal or any two are equal.\")\n"
      ],
      "metadata": {
        "colab": {
          "base_uri": "https://localhost:8080/"
        },
        "id": "ftXgH1IaXg_0",
        "outputId": "49b53ed0-49b0-4447-97d7-5a93a3acdac1"
      },
      "execution_count": 24,
      "outputs": [
        {
          "output_type": "stream",
          "name": "stdout",
          "text": [
            "x=10\n",
            "Enter second number:20\n",
            "Enter third number:20\n",
            "All numbers are equal or any two are equal.\n"
          ]
        }
      ]
    },
    {
      "cell_type": "code",
      "source": [
        "x= int(input(\"x=\"))\n",
        "y= int(input(\"y=\"))\n",
        "z= int(input(\"z=\"))\n",
        "\n",
        "if(x>y and x>z):\n",
        "  print(\" x is greatest among all three.\")\n",
        "elif(y>x and y>z):\n",
        "  print(\" y is greatest among all three.\")\n",
        "elif(z>x and z>y):\n",
        "  print(\" z is greater among all three.\")\n",
        "else:\n",
        "  print(\"All numbers are equal or any two are equal.\")"
      ],
      "metadata": {
        "colab": {
          "base_uri": "https://localhost:8080/"
        },
        "id": "YkSErOIyYzvN",
        "outputId": "4bbc6d62-b3e3-45af-caca-e3a0d9ca5b54"
      },
      "execution_count": 25,
      "outputs": [
        {
          "output_type": "stream",
          "name": "stdout",
          "text": [
            "x=1\n",
            "y=1\n",
            "z=2\n",
            " z is greater among all three.\n"
          ]
        }
      ]
    },
    {
      "cell_type": "code",
      "source": [
        "a= int(input(\"a=\"))\n",
        "b= int(input(\"b=\"))\n",
        "c= int(input(\"c=\"))\n",
        "if a>b:\n",
        "  print(\"a is greater than b\")\n",
        "if b>c:\n",
        "  print(\"b is grater than c\")\n",
        "else:\n",
        "  print(\"c is greater than a and b\")"
      ],
      "metadata": {
        "colab": {
          "base_uri": "https://localhost:8080/"
        },
        "id": "gYMHbx-1ckMM",
        "outputId": "eb29a804-27d7-4959-897a-7f4660b2ac5a"
      },
      "execution_count": 31,
      "outputs": [
        {
          "output_type": "stream",
          "name": "stdout",
          "text": [
            "a=6\n",
            "b=7\n",
            "c=3\n",
            "b is grater than c\n"
          ]
        }
      ]
    },
    {
      "cell_type": "code",
      "source": [
        "# print 1 to 10 using a while loop"
      ],
      "metadata": {
        "id": "Mo4xMLTChAXK"
      },
      "execution_count": 32,
      "outputs": []
    },
    {
      "cell_type": "code",
      "source": [
        "i= 1\n",
        "while(i<=10):\n",
        "  print(i)\n",
        "  i+=1"
      ],
      "metadata": {
        "colab": {
          "base_uri": "https://localhost:8080/"
        },
        "id": "cW8ysvTpiA0Q",
        "outputId": "6c917c31-76f0-4828-a87a-f1510abaeef0"
      },
      "execution_count": 36,
      "outputs": [
        {
          "output_type": "stream",
          "name": "stdout",
          "text": [
            "1\n",
            "2\n",
            "3\n",
            "4\n",
            "5\n",
            "6\n",
            "7\n",
            "8\n",
            "9\n",
            "10\n"
          ]
        }
      ]
    },
    {
      "cell_type": "code",
      "source": [
        "n=10\n",
        "while n>0:\n",
        "  print(n)\n",
        "  n-=1"
      ],
      "metadata": {
        "colab": {
          "base_uri": "https://localhost:8080/"
        },
        "id": "zOfKjJxFiN4f",
        "outputId": "113238d1-21b3-4418-971f-eb6ca8fc1f58"
      },
      "execution_count": 39,
      "outputs": [
        {
          "output_type": "stream",
          "name": "stdout",
          "text": [
            "10\n",
            "9\n",
            "8\n",
            "7\n",
            "6\n",
            "5\n",
            "4\n",
            "3\n",
            "2\n",
            "1\n"
          ]
        }
      ]
    },
    {
      "cell_type": "code",
      "source": [
        "def compare1():\n",
        "  a = int(input(\"Enter first number:\"))\n",
        "  b = int(input(\"Enter second number:\"))\n",
        "  c = int(input(\"Enter third number:\"))\n",
        "  if a>b:\n",
        "    print(\"a is greater than b and c\")\n",
        "  elif b>c:\n",
        "    print(\"b is greater than a and c\")\n",
        "  else:\n",
        "    print(\"c is greater than a and b\")"
      ],
      "metadata": {
        "id": "hjlArtKliacP"
      },
      "execution_count": 54,
      "outputs": []
    },
    {
      "cell_type": "code",
      "source": [
        "compare1()"
      ],
      "metadata": {
        "colab": {
          "base_uri": "https://localhost:8080/"
        },
        "id": "nz6BMLScoacC",
        "outputId": "a1e1130a-b244-47e9-bf73-1773e3f74293"
      },
      "execution_count": 56,
      "outputs": [
        {
          "output_type": "stream",
          "name": "stdout",
          "text": [
            "Enter first number:5\n",
            "Enter second number:4\n",
            "Enter third number:1\n",
            "a is greater than b and c\n"
          ]
        }
      ]
    },
    {
      "cell_type": "code",
      "source": [
        ""
      ],
      "metadata": {
        "id": "3fFaIVVnqqJY"
      },
      "execution_count": null,
      "outputs": []
    }
  ]
}